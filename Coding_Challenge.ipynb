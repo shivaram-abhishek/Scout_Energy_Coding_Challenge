{
 "cells": [
  {
   "cell_type": "markdown",
   "metadata": {},
   "source": [
    "### Import Libraries"
   ]
  },
  {
   "cell_type": "code",
   "execution_count": 1,
   "metadata": {},
   "outputs": [],
   "source": [
    "import pandas as pd\n",
    "from datetime import datetime, timedelta\n",
    "import pytz"
   ]
  },
  {
   "cell_type": "markdown",
   "metadata": {},
   "source": [
    "### Read the Excel file"
   ]
  },
  {
   "cell_type": "code",
   "execution_count": 2,
   "metadata": {},
   "outputs": [],
   "source": [
    "data = pd.read_excel('test 2021-05-06 start.xlsx')"
   ]
  },
  {
   "cell_type": "markdown",
   "metadata": {},
   "source": [
    "# Handling the missing timestamps"
   ]
  },
  {
   "cell_type": "markdown",
   "metadata": {},
   "source": [
    "### Create a function which converts string input to datetime format and checks if DST starts or ends"
   ]
  },
  {
   "cell_type": "code",
   "execution_count": 3,
   "metadata": {},
   "outputs": [],
   "source": [
    "def str_to_datetime(stamp):\n",
    "    given_tz = pytz.timezone('US/Central')\n",
    "    try: # If timezone is behind GMT\n",
    "        # Split and create a timestamp\n",
    "        stamp_split = stamp.split('-')\n",
    "        timez = stamp.split()[1].split('-')[1].split(':')\n",
    "        timez = ''.join(timez)\n",
    "        stamp_split[-1] = timez\n",
    "        stamp = '-'.join(stamp_split)\n",
    "        date_time_input = datetime.strptime(stamp, '%Y-%m-%d %H:%M:%S%z') # Timestamp of input string created\n",
    "\n",
    "        # To check if DST is applied\n",
    "        stamp_split.pop()\n",
    "        stamp = '-'.join(stamp_split)\n",
    "        date_time_localized = given_tz.localize(datetime.strptime(stamp, '%Y-%m-%d %H:%M:%S')) # Timestamp with the localized timezone information\n",
    "\n",
    "    except: # If timezone is ahead of GMT\n",
    "        # Split and create a timestamp\n",
    "        stamp_split = stamp.split('+')\n",
    "        timez = stamp_split[1].split(':')\n",
    "        timez = ''.join(timez)\n",
    "        stamp_split[-1] = timez\n",
    "        stamp = '+'.join(stamp_split)\n",
    "        date_time_input = datetime.strptime(stamp, '%Y-%m-%d %H:%M:%S%z') # Timestamp of input string created\n",
    "\n",
    "        # To check if DST is applied\n",
    "        stamp_split.pop()\n",
    "        date_time_localized = given_tz.localize(datetime.strptime(stamp_split[0], '%Y-%m-%d %H:%M:%S')) # Timestamp with the localized timezone information\n",
    "    \n",
    "    # Check to see if DST is applied\n",
    "    if date_time_input < date_time_localized: # If given time is less than the localized time\n",
    "        dst = 'off'\n",
    "    elif date_time_input > date_time_localized: # If given time is greater than the localized time\n",
    "        dst = 'on'\n",
    "    else: # If given time is equal to the localized time\n",
    "        dst = None\n",
    "\n",
    "    return date_time_localized, dst\n"
   ]
  },
  {
   "cell_type": "markdown",
   "metadata": {},
   "source": [
    "### Updating the dataframe to add the missing timestamps"
   ]
  },
  {
   "cell_type": "code",
   "execution_count": 4,
   "metadata": {},
   "outputs": [],
   "source": [
    "missing_index = [] # Create a list to keep track of the indexes of all the missing timestamps\n",
    "iter = data['id'][len(data) - 1] # Last index entry\n",
    "for i in range(1, iter+1):\n",
    "\n",
    "    curr_id = data['id'][i-1]\n",
    "    next_id = data['id'][i]\n",
    "\n",
    "    if curr_id + 1 != next_id: # Check if there is a missing index\n",
    "        current_time, dst_info = str_to_datetime(data['time'][i-1])\n",
    "        next_time_check, next_dst = str_to_datetime(str(current_time + timedelta(hours=1)))\n",
    "        \n",
    "        if next_dst == 'on': # Condition to check if DST starts\n",
    "            current_time = str_to_datetime(str(current_time + timedelta(hours=1)))[0] # Lose one hour and return the localized time\n",
    "\n",
    "        if dst_info == 'off': # Condition to check if DST ends\n",
    "            next_time = current_time # Gain one hour\n",
    "\n",
    "        else: # If DST information does not change\n",
    "            next_time = current_time + timedelta(hours=1)\n",
    "        \n",
    "        # Update the dataframe to add a new row\n",
    "        entry = pd.DataFrame({'id':[int(data['id'][i-1]) + 1],\\\n",
    "            'time': [str(next_time)], 'VTWS_AVG': [None], \\\n",
    "                'WIND_SPEED':[None],'WIND_SPEED_2': [None],\\\n",
    "                    'windspeed5': [None], 'Windspeed3a':[None]})\n",
    "        data = pd.concat([(data.iloc[:i]), entry, data.iloc[i:]]).reset_index(drop=True)\n",
    "\n",
    "        missing_index.append(i) # Update the list of indexes of all the missing timestamps"
   ]
  },
  {
   "cell_type": "markdown",
   "metadata": {},
   "source": [
    "### Create a column to see where the Timestamps are missing"
   ]
  },
  {
   "cell_type": "code",
   "execution_count": 5,
   "metadata": {},
   "outputs": [
    {
     "name": "stdout",
     "output_type": "stream",
     "text": [
      "Number of missing timestamps in the original input dataset =  7\n"
     ]
    }
   ],
   "source": [
    "missing_timestamp_list = [] # Create an empty list\n",
    "iter = data['id'][len(data) - 1] # Last index entry\n",
    "count_missing_timestamp = 0\n",
    "\n",
    "# Check if the index is in the missing_index list\n",
    "for i in range(0, iter+1):\n",
    "    if i in missing_index:\n",
    "        missing_timestamp_list.append('Missing from original input dataset') # Appends a string 'Missing from original input dataset' to the list missing_timestamp_list where the index is in the missing_index list\n",
    "        count_missing_timestamp += 1\n",
    "    else:\n",
    "        missing_timestamp_list.append(None) # Appends a null value to the list missing_timestamp_list where the index is not in the missing_index list\n",
    "\n",
    "data['timestamp flag'] = missing_timestamp_list # Create a new column in the dataframe showing a flag where the timestamp is missing using the list\n",
    "\n",
    "print(\"Number of missing timestamps in the original input dataset = \", count_missing_timestamp)"
   ]
  },
  {
   "cell_type": "markdown",
   "metadata": {},
   "source": [
    "# Handling the missing VTWS_AVG values"
   ]
  },
  {
   "cell_type": "markdown",
   "metadata": {},
   "source": [
    "### Create a column to see where the VTWS_AVG values are missing"
   ]
  },
  {
   "cell_type": "code",
   "execution_count": 6,
   "metadata": {},
   "outputs": [
    {
     "name": "stdout",
     "output_type": "stream",
     "text": [
      "Number of missing VTWS_AVG values in the original input dataset =  45\n"
     ]
    }
   ],
   "source": [
    "vtws_avg_list = [] # Create an empty list\n",
    "count_missing_VTWS = 0\n",
    "\n",
    "# Checks which values are null in the VTWS_AVG column\n",
    "for i in list(data['VTWS_AVG'].isnull()):\n",
    "    if i == False:\n",
    "        vtws_avg_list.append(None) # Appends a null value to the list where the VTWS_AVG value is not missing\n",
    "    else:\n",
    "        vtws_avg_list.append('Erroneous') # Appends a string 'Erroneous' to the list where the VTWS_AVG value is missing\n",
    "        count_missing_VTWS += 1\n",
    "\n",
    "data['data qc flag VTWS_AVG'] = vtws_avg_list # Create a new column in the dataframe showing a flag where the value is missing using the list\n",
    "\n",
    "print(\"Number of missing VTWS_AVG values in the original input dataset = \", count_missing_VTWS)"
   ]
  },
  {
   "cell_type": "markdown",
   "metadata": {},
   "source": [
    "# Printing the data and creating an excel file"
   ]
  },
  {
   "cell_type": "code",
   "execution_count": 7,
   "metadata": {},
   "outputs": [
    {
     "data": {
      "text/html": [
       "<div>\n",
       "<style scoped>\n",
       "    .dataframe tbody tr th:only-of-type {\n",
       "        vertical-align: middle;\n",
       "    }\n",
       "\n",
       "    .dataframe tbody tr th {\n",
       "        vertical-align: top;\n",
       "    }\n",
       "\n",
       "    .dataframe thead th {\n",
       "        text-align: right;\n",
       "    }\n",
       "</style>\n",
       "<table border=\"1\" class=\"dataframe\">\n",
       "  <thead>\n",
       "    <tr style=\"text-align: right;\">\n",
       "      <th></th>\n",
       "      <th>id</th>\n",
       "      <th>time</th>\n",
       "      <th>VTWS_AVG</th>\n",
       "      <th>WIND_SPEED</th>\n",
       "      <th>WIND_SPEED_2</th>\n",
       "      <th>windspeed5</th>\n",
       "      <th>Windspeed3a</th>\n",
       "      <th>timestamp flag</th>\n",
       "      <th>data qc flag VTWS_AVG</th>\n",
       "    </tr>\n",
       "  </thead>\n",
       "  <tbody>\n",
       "    <tr>\n",
       "      <td>0</td>\n",
       "      <td>0</td>\n",
       "      <td>2020-10-01 00:00:00-05:00</td>\n",
       "      <td>10.775331</td>\n",
       "      <td>10.687425</td>\n",
       "      <td>10.728533</td>\n",
       "      <td>11.908320</td>\n",
       "      <td>10.730430</td>\n",
       "      <td>None</td>\n",
       "      <td>None</td>\n",
       "    </tr>\n",
       "    <tr>\n",
       "      <td>1</td>\n",
       "      <td>1</td>\n",
       "      <td>2020-10-01 01:00:00-05:00</td>\n",
       "      <td>9.092214</td>\n",
       "      <td>9.165928</td>\n",
       "      <td>9.199237</td>\n",
       "      <td>9.464774</td>\n",
       "      <td>9.152460</td>\n",
       "      <td>None</td>\n",
       "      <td>None</td>\n",
       "    </tr>\n",
       "    <tr>\n",
       "      <td>2</td>\n",
       "      <td>2</td>\n",
       "      <td>2020-10-01 02:00:00-05:00</td>\n",
       "      <td>7.908880</td>\n",
       "      <td>8.012490</td>\n",
       "      <td>8.013744</td>\n",
       "      <td>9.959714</td>\n",
       "      <td>7.978371</td>\n",
       "      <td>None</td>\n",
       "      <td>None</td>\n",
       "    </tr>\n",
       "    <tr>\n",
       "      <td>3</td>\n",
       "      <td>3</td>\n",
       "      <td>2020-10-01 03:00:00-05:00</td>\n",
       "      <td>7.425524</td>\n",
       "      <td>7.442371</td>\n",
       "      <td>7.475331</td>\n",
       "      <td>7.747372</td>\n",
       "      <td>7.447742</td>\n",
       "      <td>None</td>\n",
       "      <td>None</td>\n",
       "    </tr>\n",
       "    <tr>\n",
       "      <td>4</td>\n",
       "      <td>4</td>\n",
       "      <td>2020-10-01 04:00:00-05:00</td>\n",
       "      <td>7.619581</td>\n",
       "      <td>7.656880</td>\n",
       "      <td>7.683305</td>\n",
       "      <td>7.866113</td>\n",
       "      <td>7.653255</td>\n",
       "      <td>None</td>\n",
       "      <td>None</td>\n",
       "    </tr>\n",
       "    <tr>\n",
       "      <td>...</td>\n",
       "      <td>...</td>\n",
       "      <td>...</td>\n",
       "      <td>...</td>\n",
       "      <td>...</td>\n",
       "      <td>...</td>\n",
       "      <td>...</td>\n",
       "      <td>...</td>\n",
       "      <td>...</td>\n",
       "      <td>...</td>\n",
       "    </tr>\n",
       "    <tr>\n",
       "      <td>1104</td>\n",
       "      <td>1104</td>\n",
       "      <td>2020-11-15 23:00:00-06:00</td>\n",
       "      <td>5.834029</td>\n",
       "      <td>5.828798</td>\n",
       "      <td>6.317920</td>\n",
       "      <td>9.141444</td>\n",
       "      <td>5.993583</td>\n",
       "      <td>None</td>\n",
       "      <td>None</td>\n",
       "    </tr>\n",
       "    <tr>\n",
       "      <td>1105</td>\n",
       "      <td>1105</td>\n",
       "      <td>2020-11-16 00:00:00-06:00</td>\n",
       "      <td>6.429171</td>\n",
       "      <td>6.447155</td>\n",
       "      <td>6.925761</td>\n",
       "      <td>10.177430</td>\n",
       "      <td>6.600696</td>\n",
       "      <td>None</td>\n",
       "      <td>None</td>\n",
       "    </tr>\n",
       "    <tr>\n",
       "      <td>1106</td>\n",
       "      <td>1106</td>\n",
       "      <td>2020-11-16 01:00:00-06:00</td>\n",
       "      <td>7.299750</td>\n",
       "      <td>7.307296</td>\n",
       "      <td>7.803329</td>\n",
       "      <td>9.154391</td>\n",
       "      <td>7.470125</td>\n",
       "      <td>None</td>\n",
       "      <td>None</td>\n",
       "    </tr>\n",
       "    <tr>\n",
       "      <td>1107</td>\n",
       "      <td>1107</td>\n",
       "      <td>2020-11-16 02:00:00-06:00</td>\n",
       "      <td>7.335454</td>\n",
       "      <td>7.430944</td>\n",
       "      <td>8.116082</td>\n",
       "      <td>10.575292</td>\n",
       "      <td>7.627493</td>\n",
       "      <td>None</td>\n",
       "      <td>None</td>\n",
       "    </tr>\n",
       "    <tr>\n",
       "      <td>1108</td>\n",
       "      <td>1108</td>\n",
       "      <td>2020-11-16 03:00:00-06:00</td>\n",
       "      <td>9.552739</td>\n",
       "      <td>7.925995</td>\n",
       "      <td>41.422289</td>\n",
       "      <td>127.655485</td>\n",
       "      <td>19.633674</td>\n",
       "      <td>None</td>\n",
       "      <td>None</td>\n",
       "    </tr>\n",
       "  </tbody>\n",
       "</table>\n",
       "<p>1109 rows × 9 columns</p>\n",
       "</div>"
      ],
      "text/plain": [
       "        id                       time   VTWS_AVG  WIND_SPEED  WIND_SPEED_2  \\\n",
       "0        0  2020-10-01 00:00:00-05:00  10.775331   10.687425     10.728533   \n",
       "1        1  2020-10-01 01:00:00-05:00   9.092214    9.165928      9.199237   \n",
       "2        2  2020-10-01 02:00:00-05:00   7.908880    8.012490      8.013744   \n",
       "3        3  2020-10-01 03:00:00-05:00   7.425524    7.442371      7.475331   \n",
       "4        4  2020-10-01 04:00:00-05:00   7.619581    7.656880      7.683305   \n",
       "...    ...                        ...        ...         ...           ...   \n",
       "1104  1104  2020-11-15 23:00:00-06:00   5.834029    5.828798      6.317920   \n",
       "1105  1105  2020-11-16 00:00:00-06:00   6.429171    6.447155      6.925761   \n",
       "1106  1106  2020-11-16 01:00:00-06:00   7.299750    7.307296      7.803329   \n",
       "1107  1107  2020-11-16 02:00:00-06:00   7.335454    7.430944      8.116082   \n",
       "1108  1108  2020-11-16 03:00:00-06:00   9.552739    7.925995     41.422289   \n",
       "\n",
       "      windspeed5  Windspeed3a timestamp flag data qc flag VTWS_AVG  \n",
       "0      11.908320    10.730430           None                  None  \n",
       "1       9.464774     9.152460           None                  None  \n",
       "2       9.959714     7.978371           None                  None  \n",
       "3       7.747372     7.447742           None                  None  \n",
       "4       7.866113     7.653255           None                  None  \n",
       "...          ...          ...            ...                   ...  \n",
       "1104    9.141444     5.993583           None                  None  \n",
       "1105   10.177430     6.600696           None                  None  \n",
       "1106    9.154391     7.470125           None                  None  \n",
       "1107   10.575292     7.627493           None                  None  \n",
       "1108  127.655485    19.633674           None                  None  \n",
       "\n",
       "[1109 rows x 9 columns]"
      ]
     },
     "execution_count": 7,
     "metadata": {},
     "output_type": "execute_result"
    }
   ],
   "source": [
    "data"
   ]
  },
  {
   "cell_type": "code",
   "execution_count": 8,
   "metadata": {},
   "outputs": [],
   "source": [
    "data.to_excel('Result.xlsx', index = False) # export the dataframe to excel"
   ]
  }
 ],
 "metadata": {
  "interpreter": {
   "hash": "12165d6b78e69855a6da2d9590f61dcdc3795bd893e2d04c937214d19214dac5"
  },
  "kernelspec": {
   "display_name": "Python 3.7.1 ('base')",
   "language": "python",
   "name": "python3"
  },
  "language_info": {
   "codemirror_mode": {
    "name": "ipython",
    "version": 3
   },
   "file_extension": ".py",
   "mimetype": "text/x-python",
   "name": "python",
   "nbconvert_exporter": "python",
   "pygments_lexer": "ipython3",
   "version": "3.7.1"
  },
  "orig_nbformat": 4
 },
 "nbformat": 4,
 "nbformat_minor": 2
}
